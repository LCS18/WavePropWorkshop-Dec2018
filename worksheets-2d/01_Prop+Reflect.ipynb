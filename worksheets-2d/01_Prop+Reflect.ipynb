{
 "cells": [
  {
   "cell_type": "markdown",
   "metadata": {},
   "source": [
    "# Numerical simulation of the wave equation in 2D using Finite Difference"
   ]
  },
  {
   "cell_type": "markdown",
   "metadata": {},
   "source": [
    "The simple second-order discretisation approximation we worked out for the 1d wave equation is:\n",
    "\n",
    "$$\\quad u_\\xi^{\\tau+1}\\ \\approx \\ \\frac{\\delta t^2c^2_\\xi}{\\delta x^2}\\left(u_{\\xi+1}^\\tau-2u_\\xi^\\tau+u_{\\xi-1}^\\tau\\right) + 2u_\\xi^\\tau - u_\\xi^{\\tau-1}$$\n",
    "\n",
    "We used the Taylor series applied along $x$ direction (as well as along time), and truncated at $4^\\text{th}$ order terms, to derive the above discretisation (in both time & space), which ends up accurate to 2nd-order:.\n",
    "\n",
    "The spatial part of the discretisation combined these two Taylor series expansions:\n",
    "\n",
    "$$f(x_0+\\delta x) = f(x_0)+{\\frac {f'(x_0)}{1!}}\\delta x+{\\frac {f''(x_0)}{2!}}\\delta x^{2}+{\\frac {f'''(x_0)}{3!}}\\delta x^{3}+O(\\delta x^4)$$\n",
    "\n",
    "$$f(x_0-\\delta x) = f(x_0)-{\\frac {f'(x_0)}{1!}}\\delta x+{\\frac {f''(x_0)}{2!}}\\delta x^{2}-{\\frac {f'''(x_0)}{3!}}\\delta x^{3}+O(\\delta x^4)$$\n",
    "\n",
    "$$\\text{Leading to:}\\quad f''(x_0) = \\frac{f(x_0+\\delta x) + f(x_0-\\delta x) - 2f(x_0)}{\\delta x^2} + O(\\delta x^2)$$\n",
    "\n",
    "The time-discretised wave equation in 2d (for $x$ and $z$ dimensions) is:\n",
    "\n",
    "$$u^{\\tau+1}(x,z)\\ \\approx \\ \\delta t^2c(x,z)^2\\ \n",
    "\\left(\\frac{\\partial^2 u^\\tau(x,z)}{\\partial x^2}+\\frac{\\partial^2 u^\\tau(x,z)}{\\partial z^2}\\right)+\\ u^\\tau(x,z)\\ -\\ u^{\\tau-1}(x,z)$$\n",
    "\n",
    ">**Task 1:**\n",
    ">\n",
    ">**Work through the spatial discretisation again, but this time for the wave equation in 2d**  \n",
    ">– Note: use pairs of Taylor series as before above, but applied in each direction (i.e. along $x$ and along $z$).\n",
    ">\n",
    ">**You should now have a discretisation for the 2d wave equation that you can use for modelling wave propagation in 2d within this notebook (see task 2...)**"
   ]
  },
  {
   "cell_type": "markdown",
   "metadata": {},
   "source": [
    "## Import libraries"
   ]
  },
  {
   "cell_type": "code",
   "execution_count": 1,
   "metadata": {},
   "outputs": [],
   "source": [
    "%matplotlib inline\n",
    "import numpy as np\n",
    "import matplotlib.pyplot as plt\n",
    "import matplotlib.animation as anim\n",
    "from IPython.display import HTML\n",
    "import sys"
   ]
  },
  {
   "cell_type": "markdown",
   "metadata": {},
   "source": [
    "----\n",
    "\n",
    "## Create domain model properties (i.e. speed of waves), and discretisation grid"
   ]
  },
  {
   "cell_type": "code",
   "execution_count": 2,
   "metadata": {},
   "outputs": [],
   "source": [
    "# 500 gridpoints along the x-axis, 350 along the z-axis\n",
    "nx = 500\n",
    "nz = 350\n",
    "\n",
    "# start with homogeneous model - same wave-speed everywhere.\n",
    "c = np.full((nx,nz),1500.0)  # Note: 1500m/s is typical acoustic velocity of water"
   ]
  },
  {
   "cell_type": "code",
   "execution_count": 20,
   "metadata": {},
   "outputs": [],
   "source": [
    "length = 3500.0 # assign a length to the model in metres\n",
    "\n",
    "dx = length/nx # calculate the spatial increment between model parameters\n",
    "\n",
    "depth = dx*nz # calculate the depth from the length and number of x and z gridpoints\n",
    "\n",
    "print('Domain is %d x %d grid-cells (%.1fm x %.1fm)' % (nx,nz,length,depth))\n",
    "print('Grid-spacing (dx) is %.2fm' % (dx))"
   ]
  },
  {
   "cell_type": "code",
   "execution_count": 21,
   "metadata": {},
   "outputs": [],
   "source": [
    "plt.figure(figsize=(10,6))\n",
    "plt.imshow(c.T) # plotting the velocity model (note transposed, to orient plot in way we expect)\n",
    "plt.colorbar()\n",
    "plt.xlabel('x gridpoints')\n",
    "plt.ylabel('z gridpoints')\n",
    "plt.title('Velocity Model (m/s)')\n",
    "plt.show()"
   ]
  },
  {
   "cell_type": "markdown",
   "metadata": {},
   "source": [
    "----\n",
    "## Modelling constraints\n",
    "#### CFL stability condition should be satisfied – the 'Courant number'.\n",
    "\n",
    "The dimensionless Courant number, $C$, gives a measure of how far a signal will travel across a grid-cell (/between grid-points) within one time-step.\n",
    "(Hence why I will very often refer to it as 'the crossing factor'.)\n",
    "\n",
    "The crossing factor is $c$.$\\delta t$/$\\delta x$ for speed $c$, and we want the maximum value of this within the whole domain to satisfy some constraint that depends upon the finite-difference stencil(s) in use when modelling.\n",
    "\n",
    "i.e. we want:$\\quad \\text{max}(c)$.$\\delta t/\\delta x <= C_{max}$, where $\\ C_{max}$ depends on the discretisations.\n",
    "\n",
    "We can turn this around to find the maximum time-step for our model and grid-spacing, given $C_{max}$ for our discretisations:\n",
    "\n",
    "$$\\delta t_{best} = \\frac{C_{max}\\ \\delta x}{\\text{max}(c)}$$\n",
    "\n",
    "#### This spatial stencil (simple 2nd order), with 2nd-order time-stepping, requires the max crossing factor to (usually) be no more than ~sqrt(2)\n",
    "(i.e. can only cross up to 70.7% of a cell in one time-step – we'll use 70% here...)"
   ]
  },
  {
   "cell_type": "code",
   "execution_count": 6,
   "metadata": {},
   "outputs": [],
   "source": [
    "courant = 0.70  # set the dimensionless max Courant number for 2nd-order FD grid in space & time"
   ]
  },
  {
   "cell_type": "code",
   "execution_count": 7,
   "metadata": {},
   "outputs": [
    {
     "name": "stdout",
     "output_type": "stream",
     "text": [
      "Time-step = 0.00327s  Number of steps = 613  (Total time being modelled: 2.00247s)\n"
     ]
    }
   ],
   "source": [
    "time = 2.0  # desired length of the simulation in seconds\n",
    "dt = (courant*dx)/c.max()  # define the best time-step by using the max Courant number\n",
    "nt = int(time/dt+0.9999)  # how many steps are needed to cover that time\n",
    "time = nt*dt  # turn that back into exact time for this number of steps\n",
    "print('Time-step = %.5fs  Number of steps = %d  (Total time being modelled: %.5fs)' % (dt,nt,dt*nt))"
   ]
  },
  {
   "cell_type": "markdown",
   "metadata": {},
   "source": [
    "### Create source function (Ricker wavelet with 8Hz peak frequency)"
   ]
  },
  {
   "cell_type": "code",
   "execution_count": 15,
   "metadata": {},
   "outputs": [],
   "source": [
    "# want to locate the source in the grid\n",
    "sx = 150\n",
    "sz = 80"
   ]
  },
  {
   "cell_type": "markdown",
   "metadata": {},
   "source": [
    "The Ricker wavelet used here is a function of time that's defined from the second derivate of a Gaussian function (which is $G(t)=\\text{e}^{-a^2 t^2}$).\n",
    "\n",
    "–It's also known as the Mexican hat wavelet, due to its shape when plotted as a function of two variables.\n",
    "\n",
    "It can be written so it is symmetric about time zero, with maximum at that time, ultimately decaying towards zero as $t$$\\rightarrow$$±\\infty$. However, we will shift it in time so that it starts near zero at our time zero.\n",
    "\n",
    "After differentiating above Gaussian, $G(t)$, twice, flipping, then scaling (and before shifting in time), we get: $\\quad R(t) = (1-2a^2 t^2)\\ \\text{e}^{-a^2 t^2}$\n",
    "\n",
    "The peak frequency of the Ricker wavelet is at $f$=$a/\\pi$.\n",
    "\n",
    "The length of the wavelet, in time, before it decays close enough to zero for our purposes, is about $\\frac{2.1}{f}$ (i.e. about $\\frac{1.05}{f}$ seconds each side of the wavelet's central peak)."
   ]
  },
  {
   "cell_type": "code",
   "execution_count": 10,
   "metadata": {
    "scrolled": true
   },
   "outputs": [
    {
     "name": "stdout",
     "output_type": "stream",
     "text": [
      "Length of wavelet will be 0.26460 secs (81 steps)\n"
     ]
    }
   ],
   "source": [
    "amp = 1.0  # amplitude of the source wavelet \n",
    "freq = 8.0  # peak frequency of source wavelet\n",
    "ts = 2.1/freq  # desired length of wavelet in time is related to peak frequency\n",
    "ns = int(ts/dt+0.9999)  # figure out how many time-steps are needed to cover that time\n",
    "ts = ns*dt  # and now turn that back into a time that's exactly the required number of steps\n",
    "print('Length of wavelet will be %.5f secs (%d steps)' % (ts,ns))"
   ]
  },
  {
   "cell_type": "code",
   "execution_count": 11,
   "metadata": {},
   "outputs": [
    {
     "name": "stdout",
     "output_type": "stream",
     "text": [
      "Endpoint values are: -0.000426 -0.000426\n"
     ]
    }
   ],
   "source": [
    "a2 = (freq*np.pi)**2  # a squared (see equation above)\n",
    "t0 = ts/2 - dt/2  # midpoint time of wavelet\n",
    "src = np.zeros(ns)\n",
    "# create Ricker wavelet (see equation above), offset by time t0 (so midpoint of wavelet is at time t=t0)\n",
    "for i in range(ns):\n",
    "    src[i] = amp*( (1 - 2*a2*((i*dt-t0)**2)) * np.exp(-a2*((i*dt-t0)**2)) )\n",
    "    #src[i] = amp*np.sin((0.5+i)*np.pi/ns)**2  # uncomment to make sine-squared 'bump' instead (not 7Hz peak tho')\n",
    "print('Endpoint values are: %.6f %.6f' % (src[0],src[-1]))"
   ]
  },
  {
   "cell_type": "code",
   "execution_count": 12,
   "metadata": {},
   "outputs": [
    {
     "data": {
      "image/png": "[encoded data removed]",
      "text/plain": [
       "<Figure size 720x432 with 1 Axes>"
      ]
     },
     "metadata": {
      "needs_background": "light"
     },
     "output_type": "display_data"
    }
   ],
   "source": [
    "plt.figure(figsize=(10,6))\n",
    "plt.plot(src) # plot source wavelet\n",
    "plt.xlabel('timesteps')\n",
    "plt.ylabel('amplitude')\n",
    "plt.title('Source Wavelet (Ricker, peak %.1fHz)' % (freq))\n",
    "plt.show()"
   ]
  },
  {
   "cell_type": "markdown",
   "metadata": {},
   "source": [
    "### Check that the maximum frequency in the source wavelet can propagate reliably"
   ]
  },
  {
   "cell_type": "markdown",
   "metadata": {},
   "source": [
    "For a simple second-order finite-difference, the minimum wavelength of a signal that we can propagate reliably is about 10 cells."
   ]
  },
  {
   "cell_type": "code",
   "execution_count": 13,
   "metadata": {},
   "outputs": [
    {
     "name": "stdout",
     "output_type": "stream",
     "text": [
      "Maximum reliable propagation frequency is about 21.4Hz\n"
     ]
    }
   ],
   "source": [
    "min_cells_per_wl = 10.0  # minimum of 10 cells per wavelength for reasonably accurate propagation\n",
    "max_freq = c.min()/(min_cells_per_wl*dx) # calculate the max frequency that can be modelled without numerical dispersion\n",
    "print('Maximum reliable propagation frequency is about %.1fHz' % max_freq)"
   ]
  },
  {
   "cell_type": "markdown",
   "metadata": {},
   "source": [
    "#### Want to avoid causing too much dispersion by keeping maximum significant frequency within this limit..."
   ]
  },
  {
   "cell_type": "code",
   "execution_count": 14,
   "metadata": {
    "scrolled": false
   },
   "outputs": [
    {
     "data": {
      "image/png": "[encoded data removed]",
      "text/plain": [
       "<Figure size 720x432 with 1 Axes>"
      ]
     },
     "metadata": {
      "needs_background": "light"
     },
     "output_type": "display_data"
    }
   ],
   "source": [
    "# plot amplitude spectrum of source wavelet\n",
    "plt.figure(figsize=(10,6))\n",
    "plt.magnitude_spectrum(np.append(src,np.zeros(nt-ns)), Fs=1/dt)  # note padding to nt points\n",
    "plt.title('Amplitude Spectrum')\n",
    "plt.xlim(0,35)\n",
    "plt.show()"
   ]
  },
  {
   "cell_type": "markdown",
   "metadata": {},
   "source": [
    "## Line of receivers within domain\n",
    "–To detect what crosses a particular horizontal line of the domain (i.e. constant depth) over time\n",
    "\n",
    ">**Task 3:** $\\quad$ *(Yes... task 2 is further down – complete that before this!)*\n",
    ">\n",
    ">**In the cell below, create a 2d array `r` that will keep a record over time of the wavefield that passes through all the gridpoints in a horizontal line that crosses at about 70 gridpoints down the domain (which is a little above the source point, since we had `sz=80` earlier).**\n",
    ">\n",
    ">**In the main time-stepping loop further down, add code to record the wavefield at each time-step.**\n",
    ">\n",
    ">**Once you have done this, and have run the simulation, the code cell that is designed to \"Plot data at receivers\" (after the wavefield plots at different times), should then show a figure with the response over time across this line of receivers.**"
   ]
  },
  {
   "cell_type": "code",
   "execution_count": 16,
   "metadata": {},
   "outputs": [],
   "source": [
    "# FILL IN CODE HERE TO BUILD EVERYTHING FOR RECEIVER ARRAY...\n",
    "\n",
    "\n"
   ]
  },
  {
   "cell_type": "markdown",
   "metadata": {},
   "source": [
    "----\n",
    "# Simulation"
   ]
  },
  {
   "cell_type": "code",
   "execution_count": 26,
   "metadata": {},
   "outputs": [],
   "source": [
    "# Initialise arrays for wavefields\n",
    "u = np.zeros((nx,nz)) # current wavefield\n",
    "u_prv = np.zeros((nx,nz)) # old t-1 wavefield\n",
    "u_nxt = np.zeros((nx,nz)) # new t+1 wavefield"
   ]
  },
  {
   "cell_type": "code",
   "execution_count": 27,
   "metadata": {},
   "outputs": [
    {
     "name": "stdout",
     "output_type": "stream",
     "text": [
      "Storing 61 wavefields (every 10th out of 613)\n"
     ]
    }
   ],
   "source": [
    "# prepare an array to store wavefield snapshots for plotting\n",
    "sampling_rate = 10 # set sampling rate used to store wavefield (every 10 timesteps)\n",
    "wavefield = np.zeros((int(nt/sampling_rate), nx, nz)) # array to store wavefields every 10 timesteps\n",
    "print('Storing %d wavefields (every %dth out of %d)' % (wavefield.shape[0],sampling_rate,nt))"
   ]
  },
  {
   "cell_type": "code",
   "execution_count": 28,
   "metadata": {},
   "outputs": [],
   "source": [
    "# a useful variable – shorthand for something that appears regularly in expressions below\n",
    "dtdx2 = (dt*dt)/(dx*dx)"
   ]
  },
  {
   "cell_type": "markdown",
   "metadata": {},
   "source": [
    ">**Task 2:**\n",
    ">\n",
    ">**From the discretisation you've just developed in task 1 (at the top of this notebook), write code below (as indicated within the time loop) to fill in the new wavefield during the time-step.**\n",
    ">\n",
    ">**– Use the 3 arrays, `u_prv`, `u` & `u_nxt` (that were initialised to zero above) for the 3 time positions, $\\tau\\text{-1}$, $\\tau$ and $\\tau\\text{+1}$.**  "
   ]
  },
  {
   "cell_type": "code",
   "execution_count": 31,
   "metadata": {},
   "outputs": [],
   "source": [
    "u[sx,sz] = src[0]  # inject first source entry into current wavefield\n",
    "\n",
    "# begin time-stepping loop...\n",
    "\n",
    "for i in range(nt):\n",
    "\n",
    "    if i%20==0:\n",
    "        sys.stdout.write('Done step %d (of %d)\\r' % (i+1,nt))\n",
    "\n",
    "    # FILL IN CODE HERE TO CALCULATE THE NEW WAVEFIELD u_nxt...\n",
    "    \n",
    "    \n",
    "    \n",
    "    \n",
    "    \n",
    "    \n",
    "    \n",
    "    # inject source entry for this step at the source point\n",
    "    if i+1<ns:\n",
    "        u_nxt[sx,sz] = src[i+1]\n",
    "    \n",
    "    # shift wavefields for next time-step\n",
    "    u_prv[:,:] = u[:,:]\n",
    "    u[:,:] = u_nxt[:,:]\n",
    "    \n",
    "    # ADD CODE HERE TO PLACE WAVEFIELD VALUES ALONG RECEIVER LINE INTO ARRAY r\n",
    "    \n",
    "    \n",
    "    \n",
    "    \n",
    "    if (i+1)%sampling_rate == 0: # store the current wavefield u on every tenth step\n",
    "        wavefield[int((i+1)/sampling_rate-1)] = u[:,:]\n",
    "\n",
    "print('Finished %d time-steps' % (nt))"
   ]
  },
  {
   "cell_type": "markdown",
   "metadata": {},
   "source": [
    "## Plot wavefield at different times"
   ]
  },
  {
   "cell_type": "code",
   "execution_count": 32,
   "metadata": {},
   "outputs": [],
   "source": [
    "b=0.06 # bounds for plots will be -b to +b\n",
    "plot_time = 0.7  # 0.7 seconds\n",
    "plt.figure(figsize=(10,7))\n",
    "plt.imshow(wavefield[int(plot_time/(dt*sampling_rate))].T,   # note the wavefield was transposed\n",
    "           vmin=-b, vmax=b, cmap='RdBu', interpolation='bilinear')\n",
    "plt.title('Wavefield at about %.2fs' % (plot_time))\n",
    "plt.colorbar()\n",
    "plt.xlabel('x gridpoints')\n",
    "plt.ylabel('z gridpoints')\n",
    "plt.show()"
   ]
  },
  {
   "cell_type": "code",
   "execution_count": 33,
   "metadata": {},
   "outputs": [],
   "source": [
    "plot_time = 1.3  # 1.3 seconds\n",
    "plt.figure(figsize=(10,7))\n",
    "plt.imshow(wavefield[int(plot_time/(dt*sampling_rate))].T, vmin=-b, vmax=b, cmap='RdBu', interpolation='bilinear')\n",
    "plt.title('Wavefield at about %.2fs' % (plot_time))\n",
    "plt.colorbar()\n",
    "plt.xlabel('x gridpoints')\n",
    "plt.ylabel('z gridpoints')\n",
    "plt.show()"
   ]
  },
  {
   "cell_type": "markdown",
   "metadata": {},
   "source": [
    "## Plot data at receivers"
   ]
  },
  {
   "cell_type": "markdown",
   "metadata": {},
   "source": [
    "**NOTE: *the code cell below will not work until you have completed task 3*...**\n",
    "\n",
    "Also, the figure orientation will depend which way around you defined your `r` array in task 2 – if the orientation does not match the axis descriptions, remove the transpose operation (i.e. change `r.T` below to just `r`)."
   ]
  },
  {
   "cell_type": "code",
   "execution_count": 24,
   "metadata": {
    "scrolled": false
   },
   "outputs": [],
   "source": [
    "plt.figure(figsize=(10,7))\n",
    "plt.imshow(r.T, cmap='RdBu', interpolation='bilinear', aspect='auto', \n",
    "           vmin=-b*0.6, vmax=b*0.6,   # set bounds for colourmap data\n",
    "           extent=(0,nx,time,0))  # set bounds for axes\n",
    "plt.title('Receiver Data')\n",
    "plt.colorbar()\n",
    "plt.xlabel('Receiver number')\n",
    "plt.ylabel('Time / s')\n",
    "plt.show()"
   ]
  },
  {
   "cell_type": "markdown",
   "metadata": {},
   "source": [
    "## Make a movie! "
   ]
  },
  {
   "cell_type": "code",
   "execution_count": 34,
   "metadata": {},
   "outputs": [],
   "source": [
    "#plt.ioff()\n",
    "fig = plt.figure(figsize=(10,8))\n",
    "\n",
    "plt.title('Wavefield')\n",
    "plt.xlabel('x gridpoints')\n",
    "plt.ylabel('z gridpoints')\n",
    "\n",
    "n = wavefield.shape[0]\n",
    "imgs = []\n",
    "for i in range(n):\n",
    "    if i%20==0:  # show progress every 20 frames\n",
    "        sys.stdout.write('Done %d of %d\\r' % (i+1,n))\n",
    "    img = plt.imshow(wavefield[i].T, vmin=-b, vmax=b, cmap='RdBu', animated=True, interpolation='bilinear')\n",
    "    imgs.append([img])\n",
    "\n",
    "print('Finished plots for frames, building animation...')\n",
    "\n",
    "ani = anim.ArtistAnimation(fig, imgs, interval=50, blit=True)\n",
    "\n",
    "plt.close(fig)  # prevent final frame plot from showing up inline just below\n",
    "\n",
    "print('Preparing HTML (takes a little while...)')\n",
    "\n",
    "HTML(ani.to_jshtml())"
   ]
  },
  {
   "cell_type": "code",
   "execution_count": null,
   "metadata": {},
   "outputs": [],
   "source": []
  }
 ],
 "metadata": {
  "kernelspec": {
   "display_name": "Python 3",
   "language": "python",
   "name": "python3"
  },
  "language_info": {
   "codemirror_mode": {
    "name": "ipython",
    "version": 3
   },
   "file_extension": ".py",
   "mimetype": "text/x-python",
   "name": "python",
   "nbconvert_exporter": "python",
   "pygments_lexer": "ipython3",
   "version": "3.5.6"
  }
 },
 "nbformat": 4,
 "nbformat_minor": 2
}
