{
 "cells": [
  {
   "cell_type": "markdown",
   "metadata": {},
   "source": [
    "## The 1D Wave Equation"
   ]
  },
  {
   "cell_type": "markdown",
   "metadata": {},
   "source": [
    "$$\\frac{\\partial^2 u}{\\partial t^2} = c^2 \\frac{\\partial^2 u}{\\partial x^2}$$\n",
    "\n",
    "$$\\text{Where $u$ is function of space and time, i.e:}\\quad u(x,t) \\quad $$\n",
    "\n",
    "$$\\text{Also, potentially $c(x)$ – but we'll begin with $c$ constant for normal mode solutions at first...}$$"
   ]
  },
  {
   "cell_type": "markdown",
   "metadata": {},
   "source": [
    "#### Discretisation of 1d wave equation using 2nd-order finite-difference..."
   ]
  },
  {
   "cell_type": "markdown",
   "metadata": {},
   "source": [
    "$$\\text{Taylor series:} \\quad f(x) = f(a)+{\\frac {f'(a)}{1!}}(x-a)+{\\frac {f''(a)}{2!}}(x-a)^{2}+{\\frac {f'''(a)}{3!}}(x-a)^{3}+\\cdots $$"
   ]
  },
  {
   "cell_type": "markdown",
   "metadata": {},
   "source": [
    "$$\\text{So:}\\quad f(x_0+\\delta x) = f(x_0)+{\\frac {f'(x_0)}{1!}}\\delta x+{\\frac {f''(x_0)}{2!}}\\delta x^{2}+{\\frac {f'''(x_0)}{3!}}\\delta x^{3}+O(\\delta x^4)$$\n",
    "\n",
    "$$\\text{and:}\\quad f(x_0-\\delta x) = f(x_0)-{\\frac {f'(x_0)}{1!}}\\delta x+{\\frac {f''(x_0)}{2!}}\\delta x^{2}-{\\frac {f'''(x_0)}{3!}}\\delta x^{3}+O(\\delta x^4)$$"
   ]
  },
  {
   "cell_type": "markdown",
   "metadata": {},
   "source": [
    "$$\\text{Combine above two:}\\quad f(x_0+\\delta x) + f(x_0-\\delta x) = 2f(x_0) + f''(x_0)\\delta x^{2} + O(\\delta x^4)$$\n",
    "\n",
    "$$\\text{Rearrange:}\\quad f''(x_0) = \\frac{f(x_0+\\delta x) + f(x_0-\\delta x) - 2f(x_0)}{\\delta x^2}\\ +\\ O(\\delta x^2)$$"
   ]
  },
  {
   "cell_type": "markdown",
   "metadata": {},
   "source": [
    "$$\\text{Putting that into LHS of wave equation, to discretise time:}$$\n",
    "\n",
    "$$\\frac{u(x,t+\\delta t) - 2u(x,t) + u(x,t-\\delta t)}{\\delta t^2} +O(\\delta t^2) \\ = \\ c(x)^2\\ \\frac{\\partial^2 u(x,t)}{\\partial x^2}$$"
   ]
  },
  {
   "cell_type": "markdown",
   "metadata": {},
   "source": [
    "$$\\text{Which leads to time-stepping equation (using $\\tau$ for the time index):}$$\n",
    "\n",
    "$$\\quad u^{\\tau+1}(x)\\ \\approx \\ \\delta t^2c(x)^2\\ \\frac{\\partial^2 u^\\tau(x)}{\\partial x^2} + 2u^\\tau(x) - u^{\\tau-1}(x)$$"
   ]
  },
  {
   "cell_type": "markdown",
   "metadata": {},
   "source": [
    "$$\\text{Now do the same for differential on RHS, discretising spatial dimension (using $\\xi$ for $x$-position index):}$$\n",
    "\n",
    "$$\\quad u_\\xi^{\\tau+1}\\ \\approx \\ \\frac{\\delta t^2c^2_\\xi}{\\delta x^2}\\left(u_{\\xi+1}^\\tau-2u_\\xi^\\tau+u_{\\xi-1}^\\tau\\right) + 2u_\\xi^\\tau - u_\\xi^{\\tau-1}$$"
   ]
  },
  {
   "cell_type": "markdown",
   "metadata": {},
   "source": [
    "----\n",
    "### Adding absorbing layer (in 1d)..."
   ]
  },
  {
   "cell_type": "markdown",
   "metadata": {},
   "source": [
    "$$\\text{Want wave to 'fade away' over time. So start from a constant frequency complex wave:}$$\n",
    "\n",
    "$$u(x,t)\\ =\\ u_0(x)\\ e^{-i\\omega t}$$\n"
   ]
  },
  {
   "cell_type": "markdown",
   "metadata": {},
   "source": [
    "$$\\text{To make it fade away we can add an extra real term in the exponent:}\\quad\n",
    "u(x,t)\\ =\\ u_0(x)\\ e^{-i\\omega t - \\alpha ct}$$\n",
    "\n",
    "$$\\text{That should cause it to decay by factor}\\ \\ e^{-\\alpha ct}\\ \\ \n",
    "\\text{as wave travels distance $ct$ from time zero to $t$.}$$"
   ]
  },
  {
   "cell_type": "markdown",
   "metadata": {},
   "source": [
    "Let's see how this affects the wave equation...\n",
    "\n",
    "$$\\text{Differentiate w.r.t. $t$:}\\quad \\frac{\\partial u}{\\partial t}\\ =\\ -u_0(x)\\ (i\\omega+\\alpha c)\\ e^{-i\\omega t - \\alpha ct}\\ =\\ \n",
    "-i\\omega\\ u\\ -\\ \\alpha c\\ u$$\n",
    "\n",
    "$$\\text{And again:}\\quad \\frac{\\partial^2 u}{\\partial t^2}\\ =\\ u_0(x)\\ (i\\omega+\\alpha c)^2\\ e^{-i\\omega t - \\alpha ct}\\ =\\ \n",
    "-\\omega^2\\ u\\ +\\ \\alpha^2 c^2\\ u\\ +\\ 2i\\omega\\alpha c\\ u$$"
   ]
  },
  {
   "cell_type": "markdown",
   "metadata": {},
   "source": [
    "$$\\text{But we can re-arrange the first equation for $\\frac{\\partial u}{\\partial t}$ to give:}\\quad\n",
    "i\\omega\\ u\\ =\\ -\\alpha c\\ u - \\frac{\\partial u}{\\partial t}$$\n",
    "\n",
    "$$\\text{So we have:}\\quad\\frac{\\partial^2 u}{\\partial t^2}\\ =\\ \n",
    "-\\omega^2\\ u\\ +\\ \\alpha^2 c^2\\ u\\ -\\ 2\\alpha^2 c^2\\ u\\ -\\ 2\\alpha c\\frac{\\partial u}{\\partial t}$$"
   ]
  },
  {
   "cell_type": "markdown",
   "metadata": {},
   "source": [
    "$$\\text{If we assume RHS of wave equation is unchanged (we only decayed with time), so still equals $-\\omega^2 u$, then we have:}$$\n",
    "\n",
    "$$\\quad\\frac{\\partial^2 u}{\\partial t^2}\\ =\\ \n",
    "c^2\\frac{\\partial^2 u}{\\partial x^2} -\\ \\alpha^2 c^2\\ u\\ -\\ 2\\alpha c\\frac{\\partial u}{\\partial t}$$"
   ]
  },
  {
   "cell_type": "markdown",
   "metadata": {},
   "source": [
    "$$\\text{Let's discretise the final term above in time as:}\\quad\n",
    "\\left.\\frac{\\partial u}{\\partial t}\\right|_{t_\\tau} \\approx \\frac{u^{\\tau+1}(x)-u^{\\tau-1}(x)}{2\\delta t}$$"
   ]
  },
  {
   "cell_type": "markdown",
   "metadata": {},
   "source": [
    "$$\\text{Recall that our time-stepping equation before was:}\\quad u^{\\tau+1}(x)\\ \\approx \\ \n",
    "\\delta t^2c(x)^2\\ \\frac{\\partial^2 u^\\tau(x)}{\\partial x^2} + 2u^\\tau(x) - u^{\\tau-1}(x)$$"
   ]
  },
  {
   "cell_type": "markdown",
   "metadata": {},
   "source": [
    "$$\\text{With the modification, it becomes:}\\quad (1+q)\\ u^{\\tau+1}(x)\\ \\approx \\ \n",
    "\\delta t^2c(x)^2\\ \\frac{\\partial^2 u^\\tau(x)}{\\partial x^2}\\ +\\ (2+q^2)\\ u^\\tau(x)\\ -\\ \n",
    "(1-q)\\ u^{\\tau-1}(x)$$\n",
    "\n",
    "$$\\text{Where:}\\quad q=\\alpha c\\delta t\\quad\n",
    "\\text{(note that it collapses back to original when we put $q$=0, as we would expect)}$$\n",
    "\n",
    "Above change means we take our original propagation kernel code, and multiply the oldest wavefield, $u^{\\tau-1}$, by $(1$$-$$q)$, and multiply the current wavefield, $u^\\tau$, by $(2$+$q^2)$ instead of just 2 (though that makes little difference in practice, since $q$ is pretty small), and then the whole of RHS gets divided by $1$+$q$.\n",
    "\n",
    "– It also ends up being just the same changes for the absorbing layer modifications in 2d."
   ]
  },
  {
   "cell_type": "markdown",
   "metadata": {},
   "source": [
    "#### Implementing absorbing layer in practice..."
   ]
  },
  {
   "cell_type": "markdown",
   "metadata": {},
   "source": [
    "Note that $q$ above depends on our model, $c$, which can change over space. Also, we will find that we want the $\\alpha$ to go from zero (across central main portion of domain where we want no absorption), and 'ramp up' as we move towards the boundaries – we'll try linear ramp, and show quadratic does better.\n",
    "\n",
    "In practice, then, the easiest way to implement absorbing layers is to make an array that's the size of the model, build the various ramps in a few dozen cells towards each edges of the domain (taking the maximum value from the various ramps in each cell where the ramps overlap), and then multiply through each cell by its velocity model, and by $\\delta t$. (We can build all the ramps to go from zero to one initially, and then scale everything appropriately afterwards.)\n",
    "\n",
    "Also, it turns out we should divide by the grid-spacing, $\\delta x$, to ensure the $e^{-\\alpha ct}$decay has *dimensionless* exponential factor $\\alpha ct$ – i.e. we end up building $\\alpha$ instead as a dimensionless object, that does not depend upon our domain length-scales. So the decay at each time-step is based around factor of $e^{-\\alpha(c\\delta t/\\delta x)}$ instead.\n",
    "\n",
    "See code in notebook for comparison regarding above points."
   ]
  },
  {
   "cell_type": "markdown",
   "metadata": {},
   "source": [
    "### Predictive absorbing boundary..."
   ]
  },
  {
   "cell_type": "markdown",
   "metadata": {},
   "source": [
    "This works by predicting what the value will be at the edge point(s) at the next step, because we know what the current value is at that point, and at the point just inside, and we know that the wave should be propagating out of the domain at some known speed (since we know the model properties)."
   ]
  },
  {
   "cell_type": "markdown",
   "metadata": {},
   "source": [
    "By assuming a simple linear relation between the edge point and the point just inside, and 'shifting' that line across by the crossing factor (i.e. how far the wave should move during the step), we can 'predict' what the new value should be at the edge point."
   ]
  },
  {
   "cell_type": "markdown",
   "metadata": {},
   "source": [
    "$$\\text{This looks like:}\\quad\n",
    "u(0,t+\\delta t)\\ \\approx\\ (1-C_0)\\ u(0,t)\\ +\\ C_0\\ u(\\delta x,t)\\quad\n",
    "\\text{where: }\\ C_0 = \\frac{c(0)\\ \\delta t}{\\delta x}\\ \\text{ is 'crossing factor' near $x$=0}$$"
   ]
  },
  {
   "cell_type": "markdown",
   "metadata": {},
   "source": [
    "$$\\text{And for other edge:}\\quad\n",
    "u(L,t+\\delta t)\\ \\approx\\ (1-C_L)\\ u(L,t)\\ +\\ C_L\\ u(L-\\delta x,t)\\quad\n",
    "\\text{where: }\\ C_L = \\frac{c(L)\\ \\delta t}{\\delta x} \\text{ (i.e. near $x$=$L$)}$$"
   ]
  },
  {
   "cell_type": "markdown",
   "metadata": {},
   "source": [
    "----\n",
    "### Some potential propagation kernel optimisations...\n",
    "\n",
    "Replacing loop over space with 'vectorised' versions. (This will be important for speed when it comes to 2d.)\n",
    "\n",
    "So instead of using `for ix in range(1,nx-1)` with `u_nxt[ix] = ...` to loop over (almost) the whole array, we'll just use a single line that works on (almost) the whole array in one go: `u_nxt[1:-1] = ...`"
   ]
  },
  {
   "cell_type": "markdown",
   "metadata": {},
   "source": [
    "(Will only do these next two if we're doing well for time...)\n",
    "\n",
    "**>>> Optimisation: reduce to two wavefields instead of three**  \n",
    "(i.e. avoid having both of `u_prv` and `u_nxt` by overwriting straight into `u_prv`)\n",
    "\n",
    "**>>> More optimisation: avoid copying between wavefields by alternating**  \n",
    "(Different ways... e.g. define propagation step as a function that takes two wavefields, and alternate order in call for each step)"
   ]
  },
  {
   "cell_type": "markdown",
   "metadata": {},
   "source": [
    "----\n",
    "### Fourth order stencil (in space)\n",
    "(Probably won't get as far as this...)"
   ]
  },
  {
   "cell_type": "markdown",
   "metadata": {},
   "source": [
    "$$f(x_0+\\delta x) = f(x_0)+{\\frac {f'(x_0)}{1!}}\\delta x+{\\frac {f''(x_0)}{2!}}\\delta x^{2}+\n",
    "{\\frac {f'''(x_0)}{3!}}\\delta x^{3}+{\\frac {f''''(x_0)}{4!}}\\delta x^{4}+\n",
    "{\\frac {f'''''(x_0)}{5!}}\\delta x^{5}+O(\\delta x^6)$$\n",
    "\n",
    "$$f(x_0-\\delta x) = f(x_0)-{\\frac {f'(x_0)}{1!}}\\delta x+{\\frac {f''(x_0)}{2!}}\\delta x^{2}-\n",
    "{\\frac {f'''(x_0)}{3!}}\\delta x^{3}+{\\frac {f''''(x_0)}{4!}}\\delta x^{4}+\n",
    "{\\frac {f'''''(x_0)}{5!}}\\delta x^{5}+O(\\delta x^6)$$\n",
    "\n",
    "$$f(x_0+2\\delta x) = f(x_0)+{\\frac {f'(x_0)}{1!}}(2\\delta x)+{\\frac {f''(x_0)}{2!}}(2\\delta x)^{2}+\n",
    "{\\frac {f'''(x_0)}{3!}}(2\\delta x)^{3}+{\\frac {f''''(x_0)}{4!}}(2\\delta x)^{4}+\n",
    "{\\frac {f'''''(x_0)}{5!}}(2\\delta x)^{5}+O(\\delta x^6)$$\n",
    "\n",
    "$$f(x_0-2\\delta x) = f(x_0)-{\\frac {f'(x_0)}{1!}}(2\\delta x)+{\\frac {f''(x_0)}{2!}}(2\\delta x)^{2}-\n",
    "{\\frac {f'''(x_0)}{3!}}(2\\delta x)^{3}+{\\frac {f''''(x_0)}{4!}}(2\\delta x)^{4}-\n",
    "{\\frac {f'''''(x_0)}{5!}}(2\\delta x)^{5}+O(\\delta x^6)$$"
   ]
  },
  {
   "cell_type": "markdown",
   "metadata": {},
   "source": [
    "$$\\text{So:}\\quad f(x_0+\\delta x) + f(x_0-\\delta x) = 2f(x_0) + f''(x_0)\\delta x^{2} + \n",
    "\\tfrac{1}{12}f''''(x_0)\\delta x^{4} + O(\\delta x^6)$$\n",
    "\n",
    "$$\\text{and:}\\quad f(x_0+2\\delta x) + f(x_0-2\\delta x) = 2f(x_0) + 4f''(x_0)\\delta x^{2} + \n",
    "\\tfrac{4}{3}f''''(x_0)\\delta x^{4} + O(\\delta x^6)$$"
   ]
  },
  {
   "cell_type": "markdown",
   "metadata": {},
   "source": [
    "$$\\text{Eliminate $f''''(x_0)\\delta x^4$:}\\quad 16[f(x_0+\\delta x) + f(x_0-\\delta x)] - \n",
    "f(x_0+2\\delta x) + f(x_0-2\\delta x) = \n",
    "(32-2)f(x_0) + (16-4)f''(x_0)\\delta x^{2} + O(\\delta x^6)$$"
   ]
  },
  {
   "cell_type": "markdown",
   "metadata": {},
   "source": [
    "$$\\text{To give:}\\quad f''(x_0) = \\frac{-f(x_0-2\\delta x)+16f(x_0-\\delta x)-30f(x_0)+16f(x_0+\\delta x)-f(x_0+2\\delta x)}{12\\delta x^2}\\ +\\ O(\\delta x^4)$$\n",
    "\n",
    "$$\\text{We can now use that to replace the $\\frac{\\partial^2 u^\\tau(x)}{\\partial x^2}$ term in the time-stepping equation we found earlier:}$$\n",
    "\n",
    "$$(1+q)\\ u^{\\tau+1}(x)\\approx\n",
    "\\delta t^2c(x)^2\\left(\\frac{-u^\\tau(x\\text{–}2\\delta x)+16u^\\tau(x\\text{–}\\delta x)-30u^\\tau(x)+16u^\\tau(x\\text{+}\\delta x)-u^\\tau(x\\text{+}2\\delta x)}{12\\delta x^2}\\right)$$\n",
    "\n",
    "$$\\quad\\quad\\quad\\quad+\\ (2+q^2)\\ u^\\tau(x)-(1-q)\\ u^{\\tau-1}(x)$$\n",
    "\n",
    "$$\\text{i.e. our fourth-order space-time discretisation finally becomes:}$$\n",
    "\n",
    "$$\\quad(1+q)\\ u^{\\tau+1}_\\xi=\n",
    "\\frac{\\delta t^2c_\\xi^2}{\\delta x^2}\\left(\\frac{-u^\\tau_{\\xi-2}+16u^\\tau_{\\xi-1}-30u^\\tau_\\xi+16u^\\tau_{\\xi+1}-u^\\tau_{\\xi+2}}{12}\\right)+\n",
    "(2+q^2)\\ u^\\tau_\\xi-(1-q)\\ u^{\\tau-1}_\\xi$$"
   ]
  },
  {
   "cell_type": "markdown",
   "metadata": {},
   "source": [
    "**>>> What will be a new issue here for discretisation at edges of domain?**  \n",
    "$\\quad\\quad\\quad\\quad\\quad\\quad\\quad\\quad\\quad$**– for both reflective and 'predictive' boundary conditions?**  \n",
    "Answer: We had the loop over x-gridpoints ($\\xi$ above) range from 1 to nx-2 because the 2nd-order stencil looks at $\\xi$-1 and $\\xi$+1.  \n",
    "But the 4th-order one also looks at $\\xi$-2 and $\\xi$+2, so we can now only loop from 2 to nx-3, which means there are *two* points on each side that don't get evaluated during a propagation step (not just one on each side).  \n",
    "Concentrating on just one side for now (the $x$=0 side), this leads to questions about the values to set for one of these two points on this side, since we only have a specific value (zero) at one point, $x$=0. –Should we add an extra point at $x$=$-\\delta x$ on this left side (and $x$=$L$+$\\delta x$ on the other)? And then what do we set for that point's value at each step?  \n",
    "It also means we need to do 'prediction' for two gridpoints (rather than just one) on each side that has a predictive boundary."
   ]
  },
  {
   "cell_type": "markdown",
   "metadata": {},
   "source": [
    "\n",
    "\n",
    "\n"
   ]
  }
 ],
 "metadata": {
  "kernelspec": {
   "display_name": "Python 3",
   "language": "python",
   "name": "python3"
  },
  "language_info": {
   "codemirror_mode": {
    "name": "ipython",
    "version": 3
   },
   "file_extension": ".py",
   "mimetype": "text/x-python",
   "name": "python",
   "nbconvert_exporter": "python",
   "pygments_lexer": "ipython3",
   "version": "3.5.6"
  }
 },
 "nbformat": 4,
 "nbformat_minor": 2
}
