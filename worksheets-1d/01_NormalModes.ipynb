{
 "cells": [
  {
   "cell_type": "markdown",
   "metadata": {},
   "source": [
    "# Numerical simulation of the wave equation in 1D using Finite Difference"
   ]
  },
  {
   "cell_type": "markdown",
   "metadata": {},
   "source": [
    "## Import libraries"
   ]
  },
  {
   "cell_type": "code",
   "execution_count": 1,
   "metadata": {},
   "outputs": [],
   "source": [
    "%matplotlib inline\n",
    "import numpy as np\n",
    "import matplotlib.pyplot as plt\n",
    "import matplotlib.animation as anim\n",
    "from IPython.display import HTML\n",
    "import sys"
   ]
  },
  {
   "cell_type": "markdown",
   "metadata": {},
   "source": [
    "----\n",
    "\n",
    "## Create domain model properties (i.e. speed of waves), and discretisation grid"
   ]
  },
  {
   "cell_type": "code",
   "execution_count": 2,
   "metadata": {},
   "outputs": [],
   "source": [
    "nx = 200  # 200 gridpoints along the x-axis\n",
    "\n",
    "# start with homogeneous model - same wave-speed everywhere.\n",
    "c = np.full(nx,10.0)  # 10m/s"
   ]
  },
  {
   "cell_type": "code",
   "execution_count": 114,
   "metadata": {},
   "outputs": [],
   "source": [
    "length = 10.0  # assign a length to the model in metres\n",
    "# (let's not get into questions of whether 'gridpoints' are sample points or cells containing some average...!)\n",
    "\n",
    "dx = length/nx  # calculate the spatial increment between model parameters\n",
    "\n",
    "print('Domain is %d grid-cells (%.1fm)' % (nx,length))\n",
    "print('Grid-spacing (dx) is %.5fm' % (dx))"
   ]
  },
  {
   "cell_type": "code",
   "execution_count": 113,
   "metadata": {},
   "outputs": [],
   "source": [
    "plt.figure(figsize=(10,6))\n",
    "plt.plot(c) # plotting the velocity model\n",
    "plt.xlabel('x gridpoints')\n",
    "plt.ylabel('speed / m/s')\n",
    "plt.title('Velocity Model (m/s)')\n",
    "plt.show()"
   ]
  },
  {
   "cell_type": "markdown",
   "metadata": {},
   "source": [
    "----\n",
    "## Time-stepping grid...\n"
   ]
  },
  {
   "cell_type": "code",
   "execution_count": 115,
   "metadata": {},
   "outputs": [],
   "source": [
    "# let's start with time-step of 0.004s\n",
    "dt = 0.004  # will see later that we can't generally pick just anything - try doubling this, for example...\n",
    "nt = 500    # 500 time-steps, at 0.004s each, gives...\n",
    "time = nt*dt  # ...total time of 2s\n",
    "print('Time-step = %.5fs  Number of steps = %d  (Total time being modelled: %.5fs)' % (dt,nt,dt*nt))"
   ]
  },
  {
   "cell_type": "markdown",
   "metadata": {},
   "source": [
    "----\n",
    "# Simulation"
   ]
  },
  {
   "cell_type": "markdown",
   "metadata": {},
   "source": [
    "The equation for the $N^{\\text{th}}$ normal mode, with zero boundary conditions at the two ends of the domain, $x$=0 and $x$=$L$, and with wave speed $c$, and starting from a sine wave at maximum amplitude when $t$=0, is:\n",
    "\n",
    "$$u(x,t)\\ =\\ \\sin(N\\pi\\frac{x}{L})\\ \\cos(N\\pi\\frac{ct}{L})$$\n",
    "\n",
    ">**Task 1:**\n",
    ">\n",
    ">**Use the above equation to create code below to initialise wavefield arrays `u` and `u_prv` for numerical simulation of normal modes.**\n",
    ">\n",
    ">**The variable `mode` in the cell below corresponds to $N$ in the equation above, and $L$ is the length of the domain.**\n",
    ">\n",
    ">**The simulation should work for integer values of `mode` from one to at least ten.**\n"
   ]
  },
  {
   "cell_type": "code",
   "execution_count": 17,
   "metadata": {},
   "outputs": [],
   "source": [
    "# Create three arrays for wavefields:\n",
    "u = np.zeros(nx)     # current wavefield during step at time t\n",
    "u_prv = np.zeros(nx) # previous wavefield, at time t-dt\n",
    "u_nxt = np.zeros(nx) # next wavefield, at time t+dt\n",
    "\n",
    "\n",
    "# the mode changes the number of peaks+troughs across the domain (also changes oscillation frequency)\n",
    "mode = 1  # once you have simulation working, try some integers from one to ten or so\n",
    "\n",
    "# FILL IN CODE HERE...\n",
    "\n",
    "\n",
    "\n",
    "\n"
   ]
  },
  {
   "cell_type": "markdown",
   "metadata": {},
   "source": [
    "This cosine-squared equation gives a 'bump' that is symmetric about $x$=0:\n",
    "\n",
    "$$c(x) = \\cos^2\\left(\\frac{\\pi x}{2h}\\right)\\quad\\text{defined for $x$=$-h$ to $h$, where $h$ is the half-width}$$\n",
    "\n",
    ">**Task 3:**$\\quad$*(Yes... task 2 is further down – come back to this task **after** completing task 2!)*  \n",
    ">\n",
    ">**We would like to see waves actually propagating across the domain.** (I mean, that's what we expect waves to do, right...?)\n",
    ">\n",
    ">**So, rather than initialising the first two wavefields with sine waves that span the whole domain, instead start them off zero everywhere except from a propagating 'bump', defined by the cosine-squared equation above.**\n",
    ">\n",
    ">**The 'bump' should start at time** $t$=0 **(i.e. initialising `u_prv`) so that it's centred on cell 50 of the domain, and have total non-zero width of roughly 11 cells (i.e. ~5 cells either side of cell 50 should be non-zero, while cell 50 gets value one).**\n",
    ">\n",
    ">**We want it to be travelling to the right at speed $c$ (so travels distance $c\\delta t$ in one step) – use that information to initialise `u`.**"
   ]
  },
  {
   "cell_type": "code",
   "execution_count": 116,
   "metadata": {},
   "outputs": [],
   "source": [
    "# FILL IN CODE BELOW TO INITIALISE ARRAYS u & u_prv WITH A TRAVELLING COSINE BUMP...\n",
    "#\n",
    "# (note: this is *instead* of initialisations above for normal modes, so you might want to comment\n",
    "# out that initialisation code above to ensure it doesn't interfere with what you do here)\n",
    "\n",
    "\n",
    "\n",
    "\n",
    "\n"
   ]
  },
  {
   "cell_type": "code",
   "execution_count": 104,
   "metadata": {},
   "outputs": [],
   "source": [
    "# plot the initial wavefields (in practice, we may not see two of them if they are so close to each other)\n",
    "fig = plt.figure(figsize=[15,5])\n",
    "plt.plot(u_prv)  # plot u_prv\n",
    "plt.plot(u)      # and plot u on same figure\n",
    "plt.title('Initial wavefields')\n",
    "plt.show()"
   ]
  },
  {
   "cell_type": "code",
   "execution_count": 105,
   "metadata": {},
   "outputs": [],
   "source": [
    "# prepare an array to store wavefield snapshots for plotting\n",
    "sampling_rate = 4 # set sampling rate used to store wavefield (every 10 timesteps)\n",
    "wavefield = np.zeros((int(nt/sampling_rate), nx)) # array to store wavefields every 10 timesteps\n",
    "print('Storing %d wavefields (every %dth out of %d)' % (wavefield.shape[0],sampling_rate,nt))"
   ]
  },
  {
   "cell_type": "markdown",
   "metadata": {},
   "source": [
    "The simple second-order discretisation approximation we worked out for the 1d wave equation is:\n",
    "\n",
    "$$\\quad u_\\xi^{\\tau+1}\\ \\approx \\ \\frac{\\delta t^2c^2_\\xi}{\\delta x^2}\\left(u_{\\xi+1}^\\tau-2u_\\xi^\\tau+u_{\\xi-1}^\\tau\\right) + 2u_\\xi^\\tau - u_\\xi^{\\tau-1}$$\n",
    "\n",
    ">**Task 2:**\n",
    ">\n",
    ">**From the above discretisation equation, fill in code below (as indicated within the time loop) to step forwards in time.**  \n",
    ">\n",
    ">**– Use the 3 arrays, `u_prv`, `u` & `u_nxt`, that were defined above, for the 3 time positions, $\\tau\\text{-1}$, $\\tau$ and $\\tau\\text{+1}$.**    \n",
    ">$\\quad$(Remember that you will need to 'cycle' the wavefields at the end of a time-step, ready to start the next one...)"
   ]
  },
  {
   "cell_type": "code",
   "execution_count": 107,
   "metadata": {},
   "outputs": [],
   "source": [
    "# begin time-stepping loop...\n",
    "\n",
    "for i in range(nt):\n",
    "\n",
    "    if i%20==0:  # show progress every 20 steps\n",
    "        sys.stdout.write('Doing %d of %d\\r' % (i+1,nt))\n",
    "\n",
    "    # FILL IN CODE HERE TO PERFORM A SINGLE TIME STEP...\n",
    "    \n",
    "    \n",
    "    \n",
    "    \n",
    "    \n",
    "    \n",
    "    \n",
    "    # store the current wavefield u on every 4th step\n",
    "    if (i+1)%sampling_rate == 0:\n",
    "        wavefield[int((i+1)/sampling_rate-1),:] = u[:]\n",
    "\n",
    "print('Finished all %d steps' % (nt))"
   ]
  },
  {
   "cell_type": "markdown",
   "metadata": {},
   "source": [
    "----\n",
    "## Plot wavefield at different times"
   ]
  },
  {
   "cell_type": "code",
   "execution_count": 109,
   "metadata": {},
   "outputs": [],
   "source": [
    "plot_time = time/8  # at 1/4 second\n",
    "plt.figure(figsize=(15,5))\n",
    "plt.plot(wavefield[int(plot_time/(dt*sampling_rate)),:])\n",
    "plt.title('Wavefield at about %.3fs' % (plot_time))\n",
    "plt.xlabel('x gridpoints')\n",
    "plt.ylabel('amplitude')\n",
    "plt.show()"
   ]
  },
  {
   "cell_type": "code",
   "execution_count": 110,
   "metadata": {},
   "outputs": [],
   "source": [
    "plot_time = time/4  # at 1/2 second\n",
    "plt.figure(figsize=(15,5))\n",
    "plt.plot(wavefield[int(plot_time/(dt*sampling_rate)),:])\n",
    "plt.title('Wavefield at about %.3fs' % (plot_time))\n",
    "plt.xlabel('x gridpoints')\n",
    "plt.ylabel('amplitude')\n",
    "plt.show()"
   ]
  },
  {
   "cell_type": "markdown",
   "metadata": {},
   "source": [
    "## Show space-time plot for whole wavefield"
   ]
  },
  {
   "cell_type": "code",
   "execution_count": 111,
   "metadata": {},
   "outputs": [],
   "source": [
    "fig = plt.figure(figsize=(10,8))\n",
    "plt.imshow(wavefield, cmap='RdBu', interpolation='bilinear', aspect='auto',\n",
    "           vmin=-1, vmax=1,       # set the bounds for the colour data\n",
    "           extent=(0,length,time,0))  # set the bounds for the axes\n",
    "plt.title('Wavefield propagation with time')\n",
    "plt.xlabel('x-position / m')\n",
    "plt.ylabel('Time / s')\n",
    "plt.show()"
   ]
  },
  {
   "cell_type": "markdown",
   "metadata": {},
   "source": [
    "## Make a movie! "
   ]
  },
  {
   "cell_type": "code",
   "execution_count": 112,
   "metadata": {},
   "outputs": [],
   "source": [
    "fig, ax = plt.subplots(figsize=(15,6))\n",
    "\n",
    "x = np.arange(0, wavefield.shape[1], 1)\n",
    "line, = ax.plot(x,wavefield[0])\n",
    "\n",
    "plt.title('Wavefield')\n",
    "plt.xlabel('x gridpoint')\n",
    "plt.ylabel('amplitude')\n",
    "plt.ylim(-1.3,1.3)\n",
    "\n",
    "def frame(i):\n",
    "    line.set_ydata(wavefield[i])\n",
    "    return line,\n",
    "\n",
    "print('Finished plots for frames, building animation...')\n",
    "\n",
    "ani = anim.FuncAnimation(fig, frame, interval=50, save_count=wavefield.shape[0])\n",
    "\n",
    "plt.close(fig)  # prevent final image from showing up inline just below\n",
    "\n",
    "print('Preparing HTML (takes a little while...)')\n",
    "\n",
    "HTML(ani.to_jshtml())"
   ]
  },
  {
   "cell_type": "code",
   "execution_count": null,
   "metadata": {},
   "outputs": [],
   "source": []
  }
 ],
 "metadata": {
  "kernelspec": {
   "display_name": "Python 3",
   "language": "python",
   "name": "python3"
  },
  "language_info": {
   "codemirror_mode": {
    "name": "ipython",
    "version": 3
   },
   "file_extension": ".py",
   "mimetype": "text/x-python",
   "name": "python",
   "nbconvert_exporter": "python",
   "pygments_lexer": "ipython3",
   "version": "3.5.6"
  }
 },
 "nbformat": 4,
 "nbformat_minor": 2
}
